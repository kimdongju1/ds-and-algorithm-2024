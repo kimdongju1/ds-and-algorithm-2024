{
 "cells": [
  {
   "cell_type": "code",
   "execution_count": 107,
   "metadata": {},
   "outputs": [],
   "source": [
    "# file : ds01_syntax.ipynb\n",
    "# desc : 파이썬 기본문법 복습"
   ]
  },
  {
   "cell_type": "markdown",
   "metadata": {},
   "source": [
    "### 자료구조와 알고리즘 \n",
    "- 파이썬 기본문법 복습 \n",
    "\n",
    "#### 1. 콘솔출력 \n",
    "- print()"
   ]
  },
  {
   "cell_type": "code",
   "execution_count": 108,
   "metadata": {},
   "outputs": [],
   "source": [
    "# 코딩 네이밍룰(Naming Rule)\n",
    "# 변수앞 i를 적으면 정수형, f를 적으면 실수형, s를 적으면 문자열형, is를 쓰면 Boolean형 \n",
    "isBasic = True\n",
    "iMonth = 12\n",
    "sMonth = 'December'\n",
    "fTaxRate = 10.2 \n",
    "\n",
    "isBasic, iMonth, sMonth, fTaxRate = False, 1, 'January', 8.8"
   ]
  },
  {
   "cell_type": "code",
   "execution_count": 109,
   "metadata": {},
   "outputs": [
    {
     "name": "stdout",
     "output_type": "stream",
     "text": [
      "<class 'bool'> <class 'int'> <class 'str'> <class 'float'>\n"
     ]
    }
   ],
   "source": [
    "# 각 변수별 타입확인, 주피터 노트북에서는 변수나 함수만 써서 화면출력 가능 \n",
    "# print()\n",
    "print(type(isBasic), type(iMonth), type(sMonth), (type(fTaxRate)))\n"
   ]
  },
  {
   "cell_type": "code",
   "execution_count": 110,
   "metadata": {},
   "outputs": [
    {
     "name": "stdout",
     "output_type": "stream",
     "text": [
      "100\n"
     ]
    }
   ],
   "source": [
    "# 구식방법\n",
    "# 100출력 방법 100, '100', '%d' % 100\n",
    "# '%d' 정수의 출력할건데 % 뒤에 있는 값을 정수형 문자열로 출력하라\n",
    "print('%d' % (100))"
   ]
  },
  {
   "cell_type": "code",
   "execution_count": 111,
   "metadata": {},
   "outputs": [
    {
     "name": "stdout",
     "output_type": "stream",
     "text": [
      "200\n"
     ]
    }
   ],
   "source": [
    "print('%d' % (100 + 100))"
   ]
  },
  {
   "cell_type": "code",
   "execution_count": 112,
   "metadata": {},
   "outputs": [
    {
     "ename": "TypeError",
     "evalue": "not enough arguments for format string",
     "output_type": "error",
     "traceback": [
      "\u001b[1;31m---------------------------------------------------------------------------\u001b[0m",
      "\u001b[1;31mTypeError\u001b[0m                                 Traceback (most recent call last)",
      "Cell \u001b[1;32mIn[112], line 2\u001b[0m\n\u001b[0;32m      1\u001b[0m \u001b[38;5;66;03m# 구식방법, 잘못된 예 %d의 개수와 % 뒤에 값 개수가 일치해야 함 \u001b[39;00m\n\u001b[1;32m----> 2\u001b[0m \u001b[38;5;28mprint\u001b[39m(\u001b[38;5;124;43m'\u001b[39;49m\u001b[38;5;132;43;01m%d\u001b[39;49;00m\u001b[38;5;124;43m / \u001b[39;49m\u001b[38;5;132;43;01m%d\u001b[39;49;00m\u001b[38;5;124;43m. \u001b[39;49m\u001b[38;5;132;43;01m%d\u001b[39;49;00m\u001b[38;5;124;43m'\u001b[39;49m\u001b[43m \u001b[49m\u001b[38;5;241;43m%\u001b[39;49m\u001b[43m \u001b[49m\u001b[43m(\u001b[49m\u001b[38;5;241;43m108\u001b[39;49m\u001b[43m,\u001b[49m\u001b[43m \u001b[49m\u001b[38;5;241;43m209\u001b[39;49m\u001b[43m)\u001b[49m)\n",
      "\u001b[1;31mTypeError\u001b[0m: not enough arguments for format string"
     ]
    }
   ],
   "source": [
    "# 구식방법, 잘못된 예 %d의 개수와 % 뒤에 값 개수가 일치해야 함 \n",
    "print('%d / %d. %d' % (108, 209))"
   ]
  },
  {
   "cell_type": "code",
   "execution_count": null,
   "metadata": {},
   "outputs": [],
   "source": [
    "# %문자열 포맷에는 2진수가 없음 (C언어부터 넘어온것)\n",
    "print('%d / %s / %.2f / %c / %x / %o' % (iMonth, sMonth, fTaxRate, 'H', 255, 57))"
   ]
  },
  {
   "cell_type": "code",
   "execution_count": null,
   "metadata": {},
   "outputs": [],
   "source": [
    "## 신식방법 포맷스트링 (90년대 경 발전)\n",
    "print('{0} / {1} / {2:.2f} / {3} / {4:x} / {5:o} / {6:b}'.format(iMonth, sMonth, fTaxRate, 'h', 255, 57, 16))"
   ]
  },
  {
   "cell_type": "code",
   "execution_count": null,
   "metadata": {},
   "outputs": [],
   "source": [
    "## 최신식방법 포맷스트링 (python 3.6이후 개발)\n",
    "print(f'{iMonth:02d} / {sMonth} / {fTaxRate:2f} / {\"H\"} / {255:x} / {57:o} / {1023:b}')"
   ]
  },
  {
   "cell_type": "markdown",
   "metadata": {},
   "source": [
    "### 2. 입력\n",
    "- input()"
   ]
  },
  {
   "cell_type": "code",
   "execution_count": null,
   "metadata": {},
   "outputs": [],
   "source": [
    "# 입력은 무조건 문자열(str)\n",
    "x = input()\n",
    "y = input()\n",
    "print(x + y) # 문자열 결합이 됨 "
   ]
  },
  {
   "cell_type": "code",
   "execution_count": null,
   "metadata": {},
   "outputs": [],
   "source": [
    "# 입력을 정수로 변경해줘야 함 , x = 12, y = 23\n",
    "x = int(input())\n",
    "y = int(input())\n",
    "print(x + y)"
   ]
  },
  {
   "cell_type": "code",
   "execution_count": null,
   "metadata": {},
   "outputs": [],
   "source": [
    "# 실수는 float()으로 변환 정수->실수 자동변환 / 실수->정수 수동변환해야\n",
    "# x = 12, y = 23\n",
    "x = float(input())\n",
    "y = float(input())\n",
    "print(x + y)"
   ]
  },
  {
   "cell_type": "code",
   "execution_count": null,
   "metadata": {},
   "outputs": [],
   "source": [
    "## input() 만 쓰면 뭘할지 모르기때문에 내용을 옵션으로 작성\n",
    "# 34.56789 * 21.565555567 = 745.4757526289436\n",
    "x = float(input('첫번째 실수 입력(예 3.14) >'))\n",
    "y = float(input('두번째 실수 입력(예 3.14) >'))\n",
    "print(f'{x:.2f} * {y:.2f} = {x * y:.4f}')\n",
    "print(f'{x} * {y} = {x * y}')"
   ]
  },
  {
   "cell_type": "code",
   "execution_count": null,
   "metadata": {},
   "outputs": [],
   "source": [
    "## 입력값이 두개 이상이면 map과 split를 활용할 것 \n",
    "x, y = map(float, input('두 실수를 입력(구분자 스페이스) > ').split())\n",
    "print(f'{x:.2f} * {y:.2f} = {x * y:.4f}')\n"
   ]
  },
  {
   "cell_type": "markdown",
   "metadata": {},
   "source": [
    "### 3. 연산자\n",
    "- 사칙연산, 승수, 나머지의 경우 연산자 3개"
   ]
  },
  {
   "cell_type": "code",
   "execution_count": null,
   "metadata": {},
   "outputs": [],
   "source": [
    "## 산술연산자\n",
    "a = 5; b = 3 # 여러 줄 로직을 한줄에 사용시 세미콜론(;)으로 구분\n",
    "a, b = 5, 3\n",
    "print(a + b, a - b, a * b, a / b, a // b, a % b, a ** b) "
   ]
  },
  {
   "cell_type": "code",
   "execution_count": null,
   "metadata": {},
   "outputs": [],
   "source": [
    "## 대입연산자\n",
    "a = 5 \n",
    "a += 3\n",
    "print(a) # 8\n",
    "a -= 3\n",
    "print(a) # 5\n",
    "a *= 3\n",
    "print(a) # 15\n",
    "a /= 3\n",
    "print(a) # 5.0\n",
    "a = int(a) # 5.0 -> 5\n",
    "a //= 3 \n",
    "print(a) # 1\n",
    "a = 5\n",
    "a %= 3\n",
    "print(a)\n",
    "a **= 10 # 2^10 승\n",
    "print(a)"
   ]
  },
  {
   "cell_type": "code",
   "execution_count": null,
   "metadata": {},
   "outputs": [],
   "source": [
    "## 관계연산자\n",
    "a, b, c, d = 3, 5, 9, 5\n",
    "print(b == d, a > b, d < c, b >=d, c <= a)\n",
    "print(a < b and c > d) # 양쪽다 참이면 참, 한쪽이라도 거짓이면 거짓\n",
    "print(a > b and c > d) # 한쪽이라도 참이면 참, 둘다 거짓이면 거짓\n",
    "\n"
   ]
  },
  {
   "cell_type": "markdown",
   "metadata": {},
   "source": [
    "### 4. 형변환(Type casting)"
   ]
  },
  {
   "cell_type": "code",
   "execution_count": null,
   "metadata": {},
   "outputs": [],
   "source": [
    "str(10) # 정수 10을 문자열로 변환"
   ]
  },
  {
   "cell_type": "code",
   "execution_count": null,
   "metadata": {},
   "outputs": [],
   "source": [
    "str(3.141592) # 실수가 문자열로 변환 "
   ]
  },
  {
   "cell_type": "code",
   "execution_count": null,
   "metadata": {},
   "outputs": [],
   "source": [
    "int('10') # 문자열을 정수로. 문자열로 들어있지만 계산을 하려면 정수로 변환"
   ]
  },
  {
   "cell_type": "code",
   "execution_count": null,
   "metadata": {},
   "outputs": [],
   "source": [
    "float('3.14') # 실수값 문자열은 float으로 변환"
   ]
  },
  {
   "cell_type": "code",
   "execution_count": null,
   "metadata": {},
   "outputs": [],
   "source": [
    "bool(1) # 1 이상은 True, 0은 False. 하지만 1만 True로 사용할 것"
   ]
  },
  {
   "cell_type": "code",
   "execution_count": null,
   "metadata": {},
   "outputs": [],
   "source": [
    "int('3.14') # 실수 문자열을 정수로 변환x"
   ]
  },
  {
   "cell_type": "code",
   "execution_count": null,
   "metadata": {},
   "outputs": [],
   "source": [
    "int(3.14) # 실수형을 정수형으로 변환 가능. 소수점이하 생략"
   ]
  },
  {
   "cell_type": "code",
   "execution_count": null,
   "metadata": {},
   "outputs": [],
   "source": [
    "float('3')"
   ]
  },
  {
   "cell_type": "code",
   "execution_count": null,
   "metadata": {},
   "outputs": [],
   "source": [
    "float(3)"
   ]
  },
  {
   "cell_type": "markdown",
   "metadata": {},
   "source": [
    "### 5. 흐름제어\n",
    "- 조건문"
   ]
  },
  {
   "cell_type": "code",
   "execution_count": null,
   "metadata": {},
   "outputs": [],
   "source": [
    "# 단순 if문\n",
    "army = 300\n",
    "\n",
    "if army < 300:\n",
    "    print('싸우면 집니다.')\n",
    "else:\n",
    "    print('이깁니다')"
   ]
  },
  {
   "cell_type": "code",
   "execution_count": null,
   "metadata": {},
   "outputs": [],
   "source": [
    "# elif문\n",
    "if army < 300:\n",
    "    print('싸우면 집니다.') # block if army < 300: 조건의 안쪽으로 들어간다.\n",
    "    print('도망갈래요.')\n",
    "elif army == 300:\n",
    "    print('간당간당합니다.') # block\n",
    "    print('한번 싸워보죠.')\n",
    "else:\n",
    "    print('이깁니다.') # block\n",
    "    print('드루와~')\n",
    "\n",
    "# if문도 중첩if문을 여러번쓰면 경우의 수가 기하급수적으로 증가(경우를 모두 처리해줘야 함)"
   ]
  },
  {
   "cell_type": "markdown",
   "metadata": {},
   "source": [
    "- for문"
   ]
  },
  {
   "cell_type": "code",
   "execution_count": null,
   "metadata": {},
   "outputs": [],
   "source": [
    "## for문\n",
    "for i in range(10):\n",
    "    print(i, end=', ')"
   ]
  },
  {
   "cell_type": "code",
   "execution_count": null,
   "metadata": {},
   "outputs": [],
   "source": [
    "for i in range(1, 10+1):\n",
    "    print(i, end=', ')"
   ]
  },
  {
   "cell_type": "code",
   "execution_count": null,
   "metadata": {},
   "outputs": [],
   "source": [
    "for i in range(1, 10+1, 2):\n",
    "    print(i, end=', ')"
   ]
  },
  {
   "cell_type": "code",
   "execution_count": null,
   "metadata": {},
   "outputs": [],
   "source": [
    "for i in [1,3,5,7,9]:\n",
    "    print(i, end=', ')"
   ]
  },
  {
   "cell_type": "code",
   "execution_count": null,
   "metadata": {},
   "outputs": [],
   "source": [
    "for i in [0,1,2,3,4,5,6,7,8,9]:\n",
    "    print(i, end=', ')"
   ]
  },
  {
   "cell_type": "code",
   "execution_count": null,
   "metadata": {},
   "outputs": [],
   "source": [
    "myList = [0,1,2,3,4,5,6,7,8,9]\n",
    "for i in myList:\n",
    "    print(i, end=', ')"
   ]
  },
  {
   "cell_type": "markdown",
   "metadata": {},
   "source": [
    "- while"
   ]
  },
  {
   "cell_type": "code",
   "execution_count": 113,
   "metadata": {},
   "outputs": [
    {
     "name": "stdout",
     "output_type": "stream",
     "text": [
      "ㅎ"
     ]
    }
   ],
   "source": [
    "while True: # 무한루프\n",
    "    print('ㅎ', end='')\n",
    "    break"
   ]
  },
  {
   "cell_type": "markdown",
   "metadata": {},
   "source": [
    "- continue : 반복문에서 조건이 맞으면 로직을 실행하지 않고 다음 반복으로 계속(continue) 반복\n",
    "- break : 반복문에서 조건이 맞으면 반복문 블록을 빠져나가는 것 "
   ]
  },
  {
   "cell_type": "code",
   "execution_count": 122,
   "metadata": {},
   "outputs": [
    {
     "name": "stdout",
     "output_type": "stream",
     "text": [
      "for문 1번 실행\n"
     ]
    },
    {
     "ename": "NameError",
     "evalue": "name 'count' is not defined",
     "output_type": "error",
     "traceback": [
      "\u001b[1;31m---------------------------------------------------------------------------\u001b[0m",
      "\u001b[1;31mNameError\u001b[0m                                 Traceback (most recent call last)",
      "Cell \u001b[1;32mIn[122], line 4\u001b[0m\n\u001b[0;32m      2\u001b[0m     \u001b[38;5;28;01mif\u001b[39;00m (i \u001b[38;5;241m%\u001b[39m \u001b[38;5;241m3\u001b[39m \u001b[38;5;241m==\u001b[39m \u001b[38;5;241m0\u001b[39m) \u001b[38;5;129;01mor\u001b[39;00m (i \u001b[38;5;241m%\u001b[39m \u001b[38;5;241m5\u001b[39m \u001b[38;5;241m==\u001b[39m \u001b[38;5;241m0\u001b[39m) \u001b[38;5;129;01mor\u001b[39;00m (i \u001b[38;5;241m%\u001b[39m \u001b[38;5;241m7\u001b[39m \u001b[38;5;241m==\u001b[39m \u001b[38;5;241m0\u001b[39m) \u001b[38;5;129;01mor\u001b[39;00m (i \u001b[38;5;241m%\u001b[39m \u001b[38;5;241m9\u001b[39m \u001b[38;5;241m==\u001b[39m \u001b[38;5;241m0\u001b[39m): \u001b[38;5;28;01mcontinue\u001b[39;00m\n\u001b[0;32m      3\u001b[0m     \u001b[38;5;28mprint\u001b[39m(\u001b[38;5;124mf\u001b[39m\u001b[38;5;124m'\u001b[39m\u001b[38;5;124mfor문 \u001b[39m\u001b[38;5;132;01m{\u001b[39;00mi\u001b[38;5;132;01m}\u001b[39;00m\u001b[38;5;124m번 실행\u001b[39m\u001b[38;5;124m'\u001b[39m)\n\u001b[1;32m----> 4\u001b[0m     \u001b[43mcount\u001b[49m \u001b[38;5;241m+\u001b[39m\u001b[38;5;241m=\u001b[39m \u001b[38;5;241m1\u001b[39m\n\u001b[0;32m      6\u001b[0m \u001b[38;5;28mprint\u001b[39m(count) \u001b[38;5;66;03m# 0(logN)\u001b[39;00m\n",
      "\u001b[1;31mNameError\u001b[0m: name 'count' is not defined"
     ]
    }
   ],
   "source": [
    "for i in range(1, 100+1):\n",
    "    if (i % 3 == 0) or (i % 5 == 0) or (i % 7 == 0) or (i % 9 == 0): continue\n",
    "    print(f'for문 {i}번 실행')\n",
    "    count += 1\n",
    "\n",
    "print(count) # 0(logN)\n",
    "    "
   ]
  },
  {
   "cell_type": "markdown",
   "metadata": {},
   "source": [
    "### 6. 함수\n",
    "- 매개변수를 받아서 동일한 로직을 처리하는 영역"
   ]
  },
  {
   "cell_type": "code",
   "execution_count": 121,
   "metadata": {},
   "outputs": [],
   "source": [
    "def plus(v1, v2):\n",
    "    result = 0\n",
    "    result = v1 + v2\n",
    "    return result\n",
    "\n",
    "    "
   ]
  },
  {
   "cell_type": "code",
   "execution_count": 123,
   "metadata": {},
   "outputs": [
    {
     "name": "stdout",
     "output_type": "stream",
     "text": [
      "200과 100의 합은 300\n"
     ]
    }
   ],
   "source": [
    "hap = 0\n",
    "\n",
    "hap = plus(200, 100) # hap = 300\n",
    "print(f'200과 100의 합은 {hap}')"
   ]
  },
  {
   "cell_type": "markdown",
   "metadata": {},
   "source": [
    "#### 6-1, 지역변수/전역변수\n",
    "Local variable / Global variableY"
   ]
  },
  {
   "cell_type": "code",
   "execution_count": 133,
   "metadata": {},
   "outputs": [
    {
     "name": "stdout",
     "output_type": "stream",
     "text": [
      "500\n",
      "5.0\n",
      "90\n",
      "3.3333333333333335\n"
     ]
    }
   ],
   "source": [
    "gbl_val = 100 # 전역변수\n",
    "\n",
    "def func1():\n",
    "    lcl_val = 10 # 지역변수\n",
    "    print(gbl_val * 5)\n",
    "    print(lcl_val / 2)\n",
    "\n",
    "def func2():\n",
    "    print(gbl_val - 10)\n",
    "    print(lcl_val / 3) # 3.333 예상 but name 'lcl_val' is not defined\n",
    "    \n",
    "func1()\n",
    "func2()"
   ]
  },
  {
   "cell_type": "code",
   "execution_count": 134,
   "metadata": {},
   "outputs": [
    {
     "name": "stdout",
     "output_type": "stream",
     "text": [
      "30\n",
      "30\n"
     ]
    }
   ],
   "source": [
    "aa = 10 # global\n",
    "def func3():\n",
    "    # aa = 20 # local\n",
    "    global aa\n",
    "    aa = 30\n",
    "    print(aa)\n",
    "\n",
    "def func4():\n",
    "    print(aa)\n",
    "\n",
    "func3()\n",
    "func4()\n",
    "\n",
    "## local 일경우 20, 10\n",
    "## global로 선언하면 30, 30"
   ]
  }
 ],
 "metadata": {
  "kernelspec": {
   "display_name": "Python 3",
   "language": "python",
   "name": "python3"
  },
  "language_info": {
   "codemirror_mode": {
    "name": "ipython",
    "version": 3
   },
   "file_extension": ".py",
   "mimetype": "text/x-python",
   "name": "python",
   "nbconvert_exporter": "python",
   "pygments_lexer": "ipython3",
   "version": "3.11.5"
  }
 },
 "nbformat": 4,
 "nbformat_minor": 2
}
