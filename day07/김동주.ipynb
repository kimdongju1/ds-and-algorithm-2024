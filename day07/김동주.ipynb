{
 "cells": [
  {
   "cell_type": "markdown",
   "metadata": {},
   "source": [
    "## 1번문제"
   ]
  },
  {
   "cell_type": "code",
   "execution_count": 21,
   "metadata": {},
   "outputs": [],
   "source": [
    "## 함수 선언부분 ##\n",
    "def 이즈스택풀():\n",
    "    global SIZE, stack, top\n",
    "    if(top >= SIZE-1):\n",
    "        return True\n",
    "    else:\n",
    "        return False\n"
   ]
  },
  {
   "cell_type": "code",
   "execution_count": 22,
   "metadata": {},
   "outputs": [],
   "source": [
    "def 이즈스택엠티():\n",
    "    global SIZE, stak, top\n",
    "    if(top == -1):\n",
    "        return True\n",
    "    else:\n",
    "        return False"
   ]
  },
  {
   "cell_type": "code",
   "execution_count": 23,
   "metadata": {},
   "outputs": [],
   "source": [
    "def push(data):\n",
    "    global SIZE, stack, top\n",
    "    if (이즈스택풀()):\n",
    "        print('스택이 꽉찼습니다')\n",
    "        return\n",
    "    else:\n",
    "        top += 1\n",
    "        stack[top] = data"
   ]
  },
  {
   "cell_type": "code",
   "execution_count": 24,
   "metadata": {},
   "outputs": [],
   "source": [
    "def pop():\n",
    "    global SIZE, stack, top\n",
    "    if (이즈스택엠티()):\n",
    "        print('스택이 비었습니다')\n",
    "        return None\n",
    "    else:\n",
    "        data = stack[top]\n",
    "        stack[top] = None\n",
    "        top -= 1 \n",
    "        return data"
   ]
  },
  {
   "cell_type": "code",
   "execution_count": 25,
   "metadata": {},
   "outputs": [],
   "source": [
    "def peek():\n",
    "    global stack, top\n",
    "    if (이즈스택엠티()):\n",
    "        print('스택이 비어있습니다')\n",
    "        return None\n",
    "    else:\n",
    "        return stack[top]"
   ]
  },
  {
   "cell_type": "code",
   "execution_count": 26,
   "metadata": {},
   "outputs": [],
   "source": [
    "## 전역 변수 선언 부분 ##\n",
    "SIZE = int(input('스택 크기를 입력하세요 ==> '))\n",
    "stack = [None for _ in range(SIZE)]\n",
    "top = -1"
   ]
  },
  {
   "cell_type": "code",
   "execution_count": 35,
   "metadata": {},
   "outputs": [
    {
     "name": "stdout",
     "output_type": "stream",
     "text": [
      "입력이 잘못됨\n",
      "프로그램 종료!\n"
     ]
    }
   ],
   "source": [
    "## 메인 코드 부분 ##\n",
    "if __name__ == '__main__':\n",
    "        select = input('삽입(I)/추출(E)/확인(V)/종료(X) 중 하나를 선택 ==> ')\n",
    "\n",
    "        while(select != 'X' and select != 'x'):\n",
    "            if select == 'I' or select == 'i':\n",
    "                data = input('입력데이터 ==> ')\n",
    "                push(data)\n",
    "                print('스택상태 :', stack)\n",
    "            elif select == 'E' or select == 'e':\n",
    "                data = pop()\n",
    "                print('추출된 데이터 ==>', data)\n",
    "                print('스택상태 :', stack)\n",
    "            elif select == 'V' or select == 'v':\n",
    "                data = peek()\n",
    "                print('확인된 데이터 ==>', data)\n",
    "                print('스택상태 :', stack)\n",
    "            else:\n",
    "                print('입력이 잘못됨')\n",
    "            \n",
    "            select = input('삽입(I)/추출(E)/확인(V)/종료(X) 중 하나를 선택 ==> ')\n",
    "\n",
    "        print('프로그램 종료!')\n"
   ]
  },
  {
   "cell_type": "markdown",
   "metadata": {},
   "source": [
    "## 2번 문제"
   ]
  },
  {
   "cell_type": "code",
   "execution_count": 28,
   "metadata": {},
   "outputs": [],
   "source": [
    "## 함수 선언 부분 ##\n",
    "def isQueueFull():\n",
    "    global SIZE, queue, fornt, rear\n",
    "    if (rear == SIZE - 1):\n",
    "        return True \n",
    "    else:\n",
    "        return False"
   ]
  },
  {
   "cell_type": "code",
   "execution_count": 29,
   "metadata": {},
   "outputs": [],
   "source": [
    "def isQueueEmpty():\n",
    "    global SIZE, queue, front, rear\n",
    "    if (front == rear):\n",
    "        return True \n",
    "    else:\n",
    "        return False"
   ]
  },
  {
   "cell_type": "code",
   "execution_count": 30,
   "metadata": {},
   "outputs": [],
   "source": [
    "def enQueue(data):\n",
    "    global SIZE, queue, front, rear\n",
    "    if (isQueueFull()):\n",
    "        print('큐가 꽉찼습니다.')\n",
    "        return\n",
    "    rear += 1\n",
    "    queue[rear] = data"
   ]
  },
  {
   "cell_type": "code",
   "execution_count": 31,
   "metadata": {},
   "outputs": [],
   "source": [
    "def deQueue():\n",
    "    global SIZE, queue, front, rear\n",
    "    if (isQueueEmpty()) :\n",
    "        print('큐가 비었습니다..')\n",
    "        return None\n",
    "    front += 1\n",
    "    data = queue[front]\n",
    "    queue[front] = None\n",
    "\n",
    "    for i in range(front+1, rear+1):\n",
    "        queue[i-1] = queue[i]\n",
    "        queue[i] = None\n",
    "    front = -1\n",
    "    rear -= 1\n",
    "\n",
    "    return data"
   ]
  },
  {
   "cell_type": "code",
   "execution_count": 32,
   "metadata": {},
   "outputs": [],
   "source": [
    "def peek() :\n",
    "    global SIZE, queue, front, rear\n",
    "    if (isQueueEmpty()):\n",
    "        print('큐가 비었습니다.')\n",
    "        return None\n",
    "    return queue[front+1]"
   ]
  },
  {
   "cell_type": "code",
   "execution_count": 33,
   "metadata": {},
   "outputs": [],
   "source": [
    "## 전역 변수 선언 부분 ##\n",
    "SIZE = 5\n",
    "queue = [None for _ in range(SIZE)]\n",
    "front = rear = -1"
   ]
  },
  {
   "cell_type": "code",
   "execution_count": 36,
   "metadata": {},
   "outputs": [
    {
     "name": "stdout",
     "output_type": "stream",
     "text": [
      "식당 영업 종료!\n"
     ]
    }
   ],
   "source": [
    "## 메인 코드 부분 ##\n",
    "if __name__ == '__main__':\n",
    "    while True:\n",
    "        select = input('Enqueue(1),Dequeue(2),Exit(3) > ')\n",
    "\n",
    "        if select.lower() == '1':\n",
    "            data = input('손님 대기줄 들어감 ')\n",
    "            enQueue(data)\n",
    "            print(f'대기 줄 상태 : {queue}')\n",
    "        elif select.lower() == '2':\n",
    "            data = deQueue()\n",
    "            if deQueue is not None:\n",
    "                print(deQueue(), '님 식당에 들어감')\n",
    "                print(f'대기 줄 상태 : {queue}')\n",
    "        elif select.lower() == '3':\n",
    "            print('식당 영업 종료!')\n",
    "            break\n",
    "        else:\n",
    "            ('잘못된 선택입니다. 다시 입력해주세요.')"
   ]
  },
  {
   "cell_type": "markdown",
   "metadata": {},
   "source": [
    "## 3번 문제"
   ]
  },
  {
   "cell_type": "code",
   "execution_count": 37,
   "metadata": {},
   "outputs": [],
   "source": [
    "import random"
   ]
  },
  {
   "cell_type": "code",
   "execution_count": 38,
   "metadata": {},
   "outputs": [],
   "source": [
    "## 함수 선언 부분 ##\n",
    "class TreeNode():\n",
    "    def __init__(self):\n",
    "        self.left = None\n",
    "        self.data = None\n",
    "        self.right = None"
   ]
  },
  {
   "cell_type": "code",
   "execution_count": 40,
   "metadata": {},
   "outputs": [],
   "source": [
    "## 전역 변수 선언 부분 ##\n",
    "memory = []\n",
    "root = None"
   ]
  },
  {
   "cell_type": "code",
   "execution_count": 42,
   "metadata": {},
   "outputs": [
    {
     "name": "stdout",
     "output_type": "stream",
     "text": [
      "오늘 판매된 물건(중복O) --> ['삼각김밥', '도시락', '삼다수', '코카콜라', '펩시', '레쓰비']\n",
      "이진 탐색 트리 구성 완료!\n",
      "오늘 판매된 종류(중복X)-->  삼각김밥 도시락 레쓰비 삼다수 코카콜라 펩시 "
     ]
    }
   ],
   "source": [
    "## 메인 코드 부분 ##\n",
    "sellAry = []\n",
    "\n",
    "while True:\n",
    "    item = input('판매한 물건을 입력하세요: ')\n",
    "    if item == '종료':\n",
    "        break\n",
    "    sellAry.append(item)\n",
    "\n",
    "print('오늘 판매된 물건(중복O) -->', sellAry)\n",
    "\n",
    "node = TreeNode()\n",
    "node.data = sellAry[0]\n",
    "root = node\n",
    "memory.append(node)\n",
    "\n",
    "for name in sellAry[1:]:\n",
    "    \n",
    "    node = TreeNode()\n",
    "    node.data = name\n",
    "\n",
    "    current = root\n",
    "    while True:\n",
    "        if name == current.data:\n",
    "            break\n",
    "\n",
    "        if name < current.data:\n",
    "            if current.left == None:\n",
    "                current.left = node\n",
    "                memory.append(node)\n",
    "                break\n",
    "            current = current.left\n",
    "\n",
    "        else:\n",
    "            if current.right == None:\n",
    "                current.right = node\n",
    "                memory.append(node)\n",
    "                break\n",
    "            current = current.right\n",
    "\n",
    "print('이진 탐색 트리 구성 완료!')\n",
    "\n",
    "def preorder(node):\n",
    "    if node == None:\n",
    "        return\n",
    "    print(node.data, end=' ')\n",
    "    preorder(node.left)\n",
    "    preorder(node.right)\n",
    "\n",
    "print('오늘 판매된 종류(중복X)--> ', end=' ')\n",
    "preorder(root)"
   ]
  }
 ],
 "metadata": {
  "kernelspec": {
   "display_name": "Python 3",
   "language": "python",
   "name": "python3"
  },
  "language_info": {
   "codemirror_mode": {
    "name": "ipython",
    "version": 3
   },
   "file_extension": ".py",
   "mimetype": "text/x-python",
   "name": "python",
   "nbconvert_exporter": "python",
   "pygments_lexer": "ipython3",
   "version": "3.11.5"
  }
 },
 "nbformat": 4,
 "nbformat_minor": 2
}
