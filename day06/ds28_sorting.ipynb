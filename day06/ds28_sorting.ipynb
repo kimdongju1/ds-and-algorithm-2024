{
 "cells": [
  {
   "cell_type": "code",
   "execution_count": 202,
   "metadata": {},
   "outputs": [],
   "source": [
    "# file : ds25_sorting.ipynb\n",
    "# desc : 각 정렬알고리즘 학습 노트북"
   ]
  },
  {
   "cell_type": "markdown",
   "metadata": {},
   "source": [
    "## 자료구조와 알고리즘\n",
    "\n",
    "- 정렬\n",
    "### 선택정렬 Selection Sort"
   ]
  },
  {
   "cell_type": "code",
   "execution_count": 203,
   "metadata": {},
   "outputs": [],
   "source": [
    "def FindMinIdx(ary):\n",
    "    minIdx = 0 # ary[0]의 값이 최소\n",
    "\n",
    "    for i in range(1, len(ary)):\n",
    "        if(ary[minIdx] > ary[i]): # ary[0]의 값이 최소가 아니다\n",
    "            minIdx = i\n",
    "    \n",
    "    return minIdx"
   ]
  },
  {
   "cell_type": "code",
   "execution_count": 204,
   "metadata": {},
   "outputs": [
    {
     "name": "stdout",
     "output_type": "stream",
     "text": [
      "최솟값 인덱스 4 / 최소값 22\n"
     ]
    }
   ],
   "source": [
    "testAry = [55, 88, 99, 33, 22, 77]\n",
    "minPos = FindMinIdx(testAry)\n",
    "print(f'최솟값 인덱스 {minPos} / 최소값 {testAry[minPos]}')"
   ]
  },
  {
   "cell_type": "code",
   "execution_count": 205,
   "metadata": {},
   "outputs": [],
   "source": [
    "before = [188, 162, 168, 120, 50, 150, 177, 105]\n",
    "after = []"
   ]
  },
  {
   "cell_type": "code",
   "execution_count": 206,
   "metadata": {},
   "outputs": [
    {
     "name": "stdout",
     "output_type": "stream",
     "text": [
      "정렬전 -> [188, 162, 168, 120, 50, 150, 177, 105]\n"
     ]
    }
   ],
   "source": [
    "print(f'정렬전 -> {before}')"
   ]
  },
  {
   "cell_type": "code",
   "execution_count": 207,
   "metadata": {},
   "outputs": [],
   "source": [
    "for _ in range(len(before)):\n",
    "    minPos = FindMinIdx(before)\n",
    "    after.append(before[minPos])\n",
    "    del before[minPos]"
   ]
  },
  {
   "cell_type": "code",
   "execution_count": 208,
   "metadata": {},
   "outputs": [
    {
     "name": "stdout",
     "output_type": "stream",
     "text": [
      "정렬전 -> []\n",
      "정렬후 -> [50, 105, 120, 150, 162, 168, 177, 188]\n"
     ]
    }
   ],
   "source": [
    "print(f'정렬전 -> {before}')\n",
    "print(f'정렬후 -> {after}')"
   ]
  },
  {
   "cell_type": "markdown",
   "metadata": {},
   "source": [
    "#### 최종 선택정렬\n",
    "\n",
    "- 시간복잡도 : 0(n^2) 그리 좋지 않음"
   ]
  },
  {
   "cell_type": "code",
   "execution_count": 209,
   "metadata": {},
   "outputs": [],
   "source": [
    "def selectionSort(ary):\n",
    "    n = len(ary)\n",
    "    for i in range(0, n-1): # 6\n",
    "        minIdx = i \n",
    "        for k in range(i+1, n):\n",
    "            if ary[minIdx] > ary[k]:\n",
    "                minIdx = k\n",
    "        \n",
    "        tmp = ary[i] # 원래있던 (최초0)\n",
    "        ary[i] = ary[minIdx] # minIdx에 있는 최소값을 가져옴\n",
    "        ary[minIdx] = tmp\n",
    "\n",
    "    return ary"
   ]
  },
  {
   "cell_type": "code",
   "execution_count": 210,
   "metadata": {},
   "outputs": [],
   "source": [
    "dataAry = [188, 162, 168, 120, 50, 150, 177, 105]"
   ]
  },
  {
   "cell_type": "code",
   "execution_count": 211,
   "metadata": {},
   "outputs": [
    {
     "name": "stdout",
     "output_type": "stream",
     "text": [
      "정렬전 - > [188, 162, 168, 120, 50, 150, 177, 105]\n",
      "정렬후 -> [50, 105, 120, 150, 162, 168, 177, 188]\n"
     ]
    }
   ],
   "source": [
    "print(f'정렬전 - > {dataAry}')\n",
    "selectionSort(dataAry)\n",
    "print(f'정렬후 -> {dataAry}')"
   ]
  },
  {
   "cell_type": "markdown",
   "metadata": {},
   "source": [
    "#### 삽입정렬 Insertion Sort"
   ]
  },
  {
   "cell_type": "code",
   "execution_count": 212,
   "metadata": {},
   "outputs": [],
   "source": [
    "def findInsertIdx(ary, data):\n",
    "    findIdx = -1 # 없는 위치 파이썬 -1 리스트 제일오른쪽 마지막 뜻하지만 -1을 데이터 없음\n",
    "\n",
    "    for i in range(0, len(ary)):\n",
    "        if ary[i] > data:\n",
    "            findIdx = i\n",
    "            break\n",
    "    \n",
    "    if findIdx == -1:\n",
    "        return len(ary) # 리스트 맨 마지막\n",
    "    else:\n",
    "        return findIdx"
   ]
  },
  {
   "cell_type": "code",
   "execution_count": 213,
   "metadata": {},
   "outputs": [
    {
     "name": "stdout",
     "output_type": "stream",
     "text": [
      "index 위치 : 0\n"
     ]
    }
   ],
   "source": [
    "testAry = []\n",
    "print(f'index 위치 : {findInsertIdx(testAry, 55)}') # 0"
   ]
  },
  {
   "cell_type": "code",
   "execution_count": 214,
   "metadata": {},
   "outputs": [
    {
     "data": {
      "text/plain": [
       "[55]"
      ]
     },
     "execution_count": 214,
     "metadata": {},
     "output_type": "execute_result"
    }
   ],
   "source": [
    "testAry.insert(0, 55)\n",
    "testAry"
   ]
  },
  {
   "cell_type": "code",
   "execution_count": 215,
   "metadata": {},
   "outputs": [
    {
     "name": "stdout",
     "output_type": "stream",
     "text": [
      "index 위치 : 1\n"
     ]
    }
   ],
   "source": [
    "testAry = [33, 77, 88]\n",
    "print(f'index 위치 : {findInsertIdx(testAry, 55)}') # 0"
   ]
  },
  {
   "cell_type": "code",
   "execution_count": 216,
   "metadata": {},
   "outputs": [
    {
     "data": {
      "text/plain": [
       "[55, 33, 77, 88]"
      ]
     },
     "execution_count": 216,
     "metadata": {},
     "output_type": "execute_result"
    }
   ],
   "source": [
    "testAry.insert(0, 55)\n",
    "testAry"
   ]
  },
  {
   "cell_type": "code",
   "execution_count": 217,
   "metadata": {},
   "outputs": [
    {
     "name": "stdout",
     "output_type": "stream",
     "text": [
      "index 위치 : 4\n"
     ]
    }
   ],
   "source": [
    "testAry = [33, 55, 77, 99]\n",
    "print(f'index 위치 : {findInsertIdx(testAry, 111)}') # 0"
   ]
  },
  {
   "cell_type": "markdown",
   "metadata": {},
   "source": [
    "#### 최종 삽입정렬\n",
    "\n",
    "- 시간복잡도 : 0(n^2) 역시 좋지 않음"
   ]
  },
  {
   "cell_type": "code",
   "execution_count": 218,
   "metadata": {},
   "outputs": [],
   "source": [
    "def insertionSort(ary):\n",
    "    n = len(ary)\n",
    "    for end in range(1, n): # 앞에서 뒤로\n",
    "        for cur in range(end, 0, -1): # 뒤에서 앞으로\n",
    "            if(ary[cur-1]) > ary[cur]:\n",
    "                tmp = ary[cur]\n",
    "                ary[cur] = ary[cur-1]\n",
    "                ary[cur-1] = tmp\n",
    "\n",
    "    return ary"
   ]
  },
  {
   "cell_type": "code",
   "execution_count": 219,
   "metadata": {},
   "outputs": [],
   "source": [
    "dataAry = [188, 162, 168, 120, 50, 150, 177, 105]"
   ]
  },
  {
   "cell_type": "code",
   "execution_count": 220,
   "metadata": {},
   "outputs": [
    {
     "name": "stdout",
     "output_type": "stream",
     "text": [
      "삽입정렬 전 : [188, 162, 168, 120, 50, 150, 177, 105]\n"
     ]
    }
   ],
   "source": [
    "print(f'삽입정렬 전 : {dataAry}')"
   ]
  },
  {
   "cell_type": "code",
   "execution_count": 221,
   "metadata": {},
   "outputs": [
    {
     "name": "stdout",
     "output_type": "stream",
     "text": [
      "삽입정렬 후 : [50, 105, 120, 150, 162, 168, 177, 188]\n"
     ]
    }
   ],
   "source": [
    "dataAry = insertionSort(dataAry)\n",
    "print(f'삽입정렬 후 : {dataAry}')"
   ]
  },
  {
   "cell_type": "markdown",
   "metadata": {},
   "source": [
    "### 버블 정렬 Bubble Sort\n",
    "\n",
    "- 시간복잡도 : 0(n^2) 이전과 동일\n",
    "    - 단, 정렬이 어느정도 되어 있는 데이터라면 연산수가 급격하게 줄어듬\n",
    "    - 그닥 좋진 않다"
   ]
  },
  {
   "cell_type": "code",
   "execution_count": 222,
   "metadata": {},
   "outputs": [],
   "source": [
    "def bubbleSort(ary):\n",
    "    n = len(ary)\n",
    "    for end in range(n-1, 0, -1): # 7부터 1까지 역순\n",
    "        for cur in range(0, end): # 0, 6까지 순차\n",
    "            if ary[cur] > ary[cur+1]: # 앞의 값이 뒤의 값보다 크면 뒤로보냄\n",
    "                tmp = ary[cur]\n",
    "                ary[cur] = ary[cur+1]\n",
    "                ary[cur+1] = tmp\n",
    "    return ary"
   ]
  },
  {
   "cell_type": "code",
   "execution_count": 223,
   "metadata": {},
   "outputs": [],
   "source": [
    "dataAry = [188, 162, 168, 120, 50, 150, 177, 105]"
   ]
  },
  {
   "cell_type": "code",
   "execution_count": 224,
   "metadata": {},
   "outputs": [
    {
     "name": "stdout",
     "output_type": "stream",
     "text": [
      "버블정렬 전 : [188, 162, 168, 120, 50, 150, 177, 105]\n"
     ]
    }
   ],
   "source": [
    "print(f'버블정렬 전 : {dataAry}')"
   ]
  },
  {
   "cell_type": "code",
   "execution_count": 225,
   "metadata": {},
   "outputs": [
    {
     "name": "stdout",
     "output_type": "stream",
     "text": [
      "버블정렬 후 : [50, 105, 120, 150, 162, 168, 177, 188]\n"
     ]
    }
   ],
   "source": [
    "dataAry = bubbleSort(dataAry)\n",
    "print(f'버블정렬 후 : {dataAry}')"
   ]
  },
  {
   "cell_type": "markdown",
   "metadata": {},
   "source": [
    "### 퀵 정렬 Quick Sort\n",
    "\n",
    "- 기준값(중앙값) 기준으로 왼쪽, 오른쪽 그룹분리한 뒤 다시 정렬하는 방법\n",
    "- 시간복잡도 : Best, Normal 0(nlog2n), Worst 0(n^2)"
   ]
  },
  {
   "cell_type": "code",
   "execution_count": 226,
   "metadata": {},
   "outputs": [],
   "source": [
    "def quickSort(ary):\n",
    "    n = len(ary)\n",
    "    if n <= 1: return ary # 정렬할 리스트가 1개이하면 정렬필요없음\n",
    "\n",
    "    pivot = ary[n // 2] # 기준값(중앙값) 지정\n",
    "    leftAry, rightAry = [], []\n",
    "\n",
    "    for data in ary:\n",
    "        if data < pivot:\n",
    "            leftAry.append(data)\n",
    "        elif data == pivot:\n",
    "            pass\n",
    "        else:\n",
    "            rightAry.append(data)\n",
    "    \n",
    "    return quickSort(leftAry) + [pivot] + quickSort(rightAry) # 재귀호출"
   ]
  },
  {
   "cell_type": "code",
   "execution_count": 227,
   "metadata": {},
   "outputs": [],
   "source": [
    "dataAry = [188, 150, 168, 162, 105, 120, 177, 50]\n"
   ]
  },
  {
   "cell_type": "code",
   "execution_count": 228,
   "metadata": {},
   "outputs": [
    {
     "name": "stdout",
     "output_type": "stream",
     "text": [
      "퀵정렬 전 : [188, 150, 168, 162, 105, 120, 177, 50]\n"
     ]
    }
   ],
   "source": [
    "print(f'퀵정렬 전 : {dataAry}')"
   ]
  },
  {
   "cell_type": "code",
   "execution_count": 229,
   "metadata": {},
   "outputs": [
    {
     "name": "stdout",
     "output_type": "stream",
     "text": [
      "퀵정렬 후 : [50, 105, 120, 150, 162, 168, 177, 188]\n"
     ]
    }
   ],
   "source": [
    "dataAry = quickSort(dataAry)\n",
    "print(f'퀵정렬 후 : {dataAry}')"
   ]
  },
  {
   "cell_type": "code",
   "execution_count": 230,
   "metadata": {},
   "outputs": [],
   "source": [
    "def qSort(arr, start, end):\n",
    "    if end <= start : return   \n",
    "\n",
    "    low = start\n",
    "    high = end \n",
    "    pivot = arr[(low+high) // 2] # 작은값은 왼쪽, 큰값은 오른쪽\n",
    "    while low <= high:\n",
    "        while arr[low] < pivot:\n",
    "            low += 1\n",
    "        while arr[high] > pivot:\n",
    "            high -= 1\n",
    "\n",
    "        if low <= high:\n",
    "            tmp = arr[low]\n",
    "            arr[low] = arr[high]\n",
    "            arr[high] = tmp\n",
    "            low += 1\n",
    "            high -= 1\n",
    "\n",
    "    mid = low\n",
    "    qSort(arr, start, mid-1)\n",
    "    qSort(arr, mid, end)"
   ]
  },
  {
   "cell_type": "code",
   "execution_count": 231,
   "metadata": {},
   "outputs": [],
   "source": [
    "def quickSort2(ary):\n",
    "    qSort(ary, 0, len(ary)-1)"
   ]
  },
  {
   "cell_type": "code",
   "execution_count": 232,
   "metadata": {},
   "outputs": [],
   "source": [
    "dataAry = [188, 150, 168, 162, 105, 120, 177, 50]"
   ]
  },
  {
   "cell_type": "code",
   "execution_count": 233,
   "metadata": {},
   "outputs": [
    {
     "name": "stdout",
     "output_type": "stream",
     "text": [
      "퀵정렬 후 : [50, 105, 120, 150, 162, 168, 177, 188]\n"
     ]
    }
   ],
   "source": [
    "quickSort2(dataAry)\n",
    "print(f'퀵정렬 후 : {dataAry}')"
   ]
  }
 ],
 "metadata": {
  "kernelspec": {
   "display_name": "Python 3",
   "language": "python",
   "name": "python3"
  },
  "language_info": {
   "codemirror_mode": {
    "name": "ipython",
    "version": 3
   },
   "file_extension": ".py",
   "mimetype": "text/x-python",
   "name": "python",
   "nbconvert_exporter": "python",
   "pygments_lexer": "ipython3",
   "version": "3.11.5"
  }
 },
 "nbformat": 4,
 "nbformat_minor": 2
}
